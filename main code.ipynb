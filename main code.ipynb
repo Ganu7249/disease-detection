{
 "cells": [
  {
   "cell_type": "code",
   "execution_count": 106,
   "id": "3cbb38b9-f159-4ae7-a73b-6cbcdaaea78d",
   "metadata": {},
   "outputs": [],
   "source": [
    "import os\n",
    "import numpy as np\n",
    "import tensorflow as tf\n",
    "from tensorflow.keras.preprocessing.image import ImageDataGenerator\n",
    "from tensorflow.keras.models import Sequential\n",
    "from tensorflow.keras.layers import Conv2D, MaxPooling2D, Flatten, Dense, Dropout\n",
    "import matplotlib.pyplot as plt\n",
    "from tensorflow.keras.preprocessing import image\n",
    "import cv2"
   ]
  },
  {
   "cell_type": "code",
   "execution_count": 107,
   "id": "01f18f38-ef2d-4489-9b8b-ab71caf90766",
   "metadata": {},
   "outputs": [],
   "source": [
    "# Define the paths for the dataset\n",
    "train_dir = \"E:/4_B.Tech Mega Project/Dataset/\""
   ]
  },
  {
   "cell_type": "code",
   "execution_count": 108,
   "id": "6f91d2d9-134c-4298-8dfe-eb4c9feb5cf3",
   "metadata": {},
   "outputs": [],
   "source": [
    "# Defining the directories for each disease class\n",
    "class_directories = {\n",
    "    \"Alternaria_Pomegranate\": \"Alternaria\",\n",
    "    \"Anthracnose_Pomegranate\": \"Anthracnose\",\n",
    "    \"Bacterial_Blight_Pomegranate\": \"Bacterial_Blight\",\n",
    "    \"Cercospora_Pomegranate\": \"Cercospora\",\n",
    "    \"Healthy_Pomegranate\": \"Healthy\"\n",
    "}"
   ]
  },
  {
   "cell_type": "code",
   "execution_count": 109,
   "id": "0daca5c6-c575-4707-ad62-b2951243a07f",
   "metadata": {},
   "outputs": [],
   "source": [
    "# Initialize ImageDataGenerator for augmentation and data preprocessing\n",
    "train_datagen = ImageDataGenerator(rescale=1./255, shear_range=0.2, zoom_range=0.2, horizontal_flip=True, validation_split=0.2)\n"
   ]
  },
  {
   "cell_type": "code",
   "execution_count": 110,
   "id": "216c7223-5d3b-49a7-bb5f-5707b7eb275c",
   "metadata": {},
   "outputs": [
    {
     "name": "stdout",
     "output_type": "stream",
     "text": [
      "Found 4080 images belonging to 5 classes.\n"
     ]
    }
   ],
   "source": [
    "train_generator = train_datagen.flow_from_directory(\n",
    "    train_dir,\n",
    "    target_size=(128, 128),  # Resize images to 128x128\n",
    "    batch_size=32,\n",
    "    class_mode='categorical',\n",
    "    subset='training'  # Use 80% for training\n",
    ")"
   ]
  },
  {
   "cell_type": "code",
   "execution_count": 111,
   "id": "be7fc19e-4f7b-4a53-bf1c-54b465a29d2d",
   "metadata": {},
   "outputs": [
    {
     "name": "stdout",
     "output_type": "stream",
     "text": [
      "Found 1019 images belonging to 5 classes.\n"
     ]
    }
   ],
   "source": [
    "validation_generator = train_datagen.flow_from_directory(\n",
    "    train_dir,\n",
    "    target_size=(128, 128),\n",
    "    batch_size=32,\n",
    "    class_mode='categorical',\n",
    "    subset='validation'  # Use 20% for validation\n",
    ")"
   ]
  },
  {
   "cell_type": "code",
   "execution_count": 112,
   "id": "a122b41f-7fcf-4554-b616-6962e5ed45a2",
   "metadata": {},
   "outputs": [],
   "source": [
    "# Build the CNN model\n",
    "model = Sequential([\n",
    "    Conv2D(32, (3, 3), activation='relu', input_shape=(128, 128, 3)),\n",
    "    MaxPooling2D(pool_size=(2, 2)),\n",
    "    Conv2D(64, (3, 3), activation='relu'),\n",
    "    MaxPooling2D(pool_size=(2, 2)),\n",
    "    Conv2D(128, (3, 3), activation='relu'),\n",
    "    MaxPooling2D(pool_size=(2, 2)),\n",
    "    Flatten(),\n",
    "    Dense(128, activation='relu'),\n",
    "    Dropout(0.5),\n",
    "    Dense(5, activation='softmax')  # 10 classes (healthy + 9 disease types)\n",
    "])\n"
   ]
  },
  {
   "cell_type": "code",
   "execution_count": 113,
   "id": "821d5e86-f35c-4d64-ae4f-7dd76027a430",
   "metadata": {},
   "outputs": [],
   "source": [
    "\n",
    "# Compile the model\n",
    "model.compile(optimizer='adam', loss='categorical_crossentropy', metrics=['accuracy'])\n"
   ]
  },
  {
   "cell_type": "code",
   "execution_count": 114,
   "id": "85acba77-3ac3-4562-80e5-d800caa646ad",
   "metadata": {},
   "outputs": [
    {
     "name": "stdout",
     "output_type": "stream",
     "text": [
      "Epoch 1/10\n",
      "\u001b[1m128/128\u001b[0m \u001b[32m━━━━━━━━━━━━━━━━━━━━\u001b[0m\u001b[37m\u001b[0m \u001b[1m240s\u001b[0m 2s/step - accuracy: 0.5129 - loss: 1.2013 - val_accuracy: 0.8165 - val_loss: 0.4927\n",
      "Epoch 2/10\n",
      "\u001b[1m128/128\u001b[0m \u001b[32m━━━━━━━━━━━━━━━━━━━━\u001b[0m\u001b[37m\u001b[0m \u001b[1m244s\u001b[0m 2s/step - accuracy: 0.8391 - loss: 0.4806 - val_accuracy: 0.8528 - val_loss: 0.4308\n",
      "Epoch 3/10\n",
      "\u001b[1m128/128\u001b[0m \u001b[32m━━━━━━━━━━━━━━━━━━━━\u001b[0m\u001b[37m\u001b[0m \u001b[1m245s\u001b[0m 2s/step - accuracy: 0.8909 - loss: 0.3316 - val_accuracy: 0.8224 - val_loss: 0.5101\n",
      "Epoch 4/10\n",
      "\u001b[1m128/128\u001b[0m \u001b[32m━━━━━━━━━━━━━━━━━━━━\u001b[0m\u001b[37m\u001b[0m \u001b[1m245s\u001b[0m 2s/step - accuracy: 0.8767 - loss: 0.3811 - val_accuracy: 0.8960 - val_loss: 0.2694\n",
      "Epoch 5/10\n",
      "\u001b[1m128/128\u001b[0m \u001b[32m━━━━━━━━━━━━━━━━━━━━\u001b[0m\u001b[37m\u001b[0m \u001b[1m246s\u001b[0m 2s/step - accuracy: 0.9229 - loss: 0.2353 - val_accuracy: 0.8891 - val_loss: 0.3263\n",
      "Epoch 6/10\n",
      "\u001b[1m128/128\u001b[0m \u001b[32m━━━━━━━━━━━━━━━━━━━━\u001b[0m\u001b[37m\u001b[0m \u001b[1m245s\u001b[0m 2s/step - accuracy: 0.9226 - loss: 0.2388 - val_accuracy: 0.9028 - val_loss: 0.2611\n",
      "Epoch 7/10\n",
      "\u001b[1m128/128\u001b[0m \u001b[32m━━━━━━━━━━━━━━━━━━━━\u001b[0m\u001b[37m\u001b[0m \u001b[1m241s\u001b[0m 2s/step - accuracy: 0.9287 - loss: 0.2346 - val_accuracy: 0.9235 - val_loss: 0.2375\n",
      "Epoch 8/10\n",
      "\u001b[1m128/128\u001b[0m \u001b[32m━━━━━━━━━━━━━━━━━━━━\u001b[0m\u001b[37m\u001b[0m \u001b[1m241s\u001b[0m 2s/step - accuracy: 0.9347 - loss: 0.1988 - val_accuracy: 0.9028 - val_loss: 0.2808\n",
      "Epoch 9/10\n",
      "\u001b[1m128/128\u001b[0m \u001b[32m━━━━━━━━━━━━━━━━━━━━\u001b[0m\u001b[37m\u001b[0m \u001b[1m240s\u001b[0m 2s/step - accuracy: 0.9361 - loss: 0.1804 - val_accuracy: 0.9293 - val_loss: 0.2067\n",
      "Epoch 10/10\n",
      "\u001b[1m128/128\u001b[0m \u001b[32m━━━━━━━━━━━━━━━━━━━━\u001b[0m\u001b[37m\u001b[0m \u001b[1m213s\u001b[0m 2s/step - accuracy: 0.9490 - loss: 0.1569 - val_accuracy: 0.8793 - val_loss: 0.3725\n"
     ]
    }
   ],
   "source": [
    "# Train the model\n",
    "history = model.fit(\n",
    "    train_generator,\n",
    "    epochs=10,\n",
    "    validation_data=validation_generator\n",
    ")"
   ]
  },
  {
   "cell_type": "code",
   "execution_count": 115,
   "id": "a2dea26f-d282-4fde-a13d-72a4f2096814",
   "metadata": {},
   "outputs": [
    {
     "name": "stderr",
     "output_type": "stream",
     "text": [
      "WARNING:absl:You are saving your model as an HDF5 file via `model.save()` or `keras.saving.save_model(model)`. This file format is considered legacy. We recommend using instead the native Keras format, e.g. `model.save('my_model.keras')` or `keras.saving.save_model(model, 'my_model.keras')`. \n"
     ]
    }
   ],
   "source": [
    "# Save the trained model\n",
    "model.save(\"Pomegranate_disease_model_final_last.h5\")\n"
   ]
  },
  {
   "cell_type": "code",
   "execution_count": 116,
   "id": "5bd321ad-34b3-42fb-87d3-d5894bbbed98",
   "metadata": {},
   "outputs": [
    {
     "data": {
      "image/png": "[encoded data removed]",
      "text/plain": [
       "<Figure size 640x480 with 1 Axes>"
      ]
     },
     "metadata": {},
     "output_type": "display_data"
    }
   ],
   "source": [
    "\n",
    "# Plot training accuracy and loss\n",
    "plt.plot(history.history['accuracy'], label='train_accuracy')\n",
    "plt.plot(history.history['val_accuracy'], label='val_accuracy')\n",
    "plt.title('Model Accuracy')\n",
    "plt.ylabel('Accuracy')\n",
    "plt.xlabel('Epoch')\n",
    "plt.legend(loc='upper left')\n",
    "plt.show()\n"
   ]
  },
  {
   "cell_type": "code",
   "execution_count": 135,
   "id": "4d0d438e-b72a-441c-adcc-e71ba7a526eb",
   "metadata": {},
   "outputs": [
    {
     "name": "stderr",
     "output_type": "stream",
     "text": [
      "WARNING:absl:Compiled the loaded model, but the compiled metrics have yet to be built. `model.compile_metrics` will be empty until you train or evaluate the model.\n"
     ]
    },
    {
     "name": "stdout",
     "output_type": "stream",
     "text": [
      "\u001b[1m1/1\u001b[0m \u001b[32m━━━━━━━━━━━━━━━━━━━━\u001b[0m\u001b[37m\u001b[0m \u001b[1m0s\u001b[0m 100ms/step\n",
      "Predicted Disease: Disease cannot be recognized due to low confidence\n"
     ]
    }
   ],
   "source": [
    "# Function to predict the disease from an image\n",
    "def predict_disease(img_path, model, class_labels):\n",
    "    img = image.load_img(img_path, target_size=(128, 128))\n",
    "    img_array = image.img_to_array(img)\n",
    "    img_array = np.expand_dims(img_array, axis=0) / 255.0  # Normalize the image\n",
    "    \n",
    "    predictions = model.predict(img_array)\n",
    "    max_index = np.argmax(predictions)\n",
    "    confidence = np.max(predictions)\n",
    "\n",
    "    if confidence > 0.6:  # Set a threshold to handle unrecognized cases\n",
    "        return class_labels[max_index]\n",
    "    else:\n",
    "        return \"Disease cannot be recognized due to low confidence\"\n",
    "\n",
    "# Example usage: Testing the model on new images\n",
    "class_labels = list(class_directories.keys())\n",
    "model = tf.keras.models.load_model(\"Pomegranate_disease_model_final_last.h5\")\n",
    "\n",
    "# Load a test image (Replace with the path of the test image)\n",
    "test_image_path = r\"E:\\4_B.Tech Mega Project\\Dataset\\an2.jpg\"\n",
    "\n",
    "# Predict disease\n",
    "predicted_disease = predict_disease(test_image_path, model, class_labels)\n",
    "print(f\"Predicted Disease: {predicted_disease}\")\n",
    "\n"
   ]
  },
  {
   "cell_type": "code",
   "execution_count": null,
   "id": "784e3bde-a595-494b-b085-1c95005f1a29",
   "metadata": {},
   "outputs": [],
   "source": []
  },
  {
   "cell_type": "code",
   "execution_count": null,
   "id": "908f54b7-2c5a-448b-828a-61cb4b79aa5c",
   "metadata": {},
   "outputs": [],
   "source": []
  },
  {
   "cell_type": "code",
   "execution_count": null,
   "id": "ba83d994-9444-4e6c-8e69-eb5fb420bf2e",
   "metadata": {},
   "outputs": [],
   "source": []
  }
 ],
 "metadata": {
  "kernelspec": {
   "display_name": "Python 3 (ipykernel)",
   "language": "python",
   "name": "python3"
  },
  "language_info": {
   "codemirror_mode": {
    "name": "ipython",
    "version": 3
   },
   "file_extension": ".py",
   "mimetype": "text/x-python",
   "name": "python",
   "nbconvert_exporter": "python",
   "pygments_lexer": "ipython3",
   "version": "3.12.3"
  }
 },
 "nbformat": 4,
 "nbformat_minor": 5
}
